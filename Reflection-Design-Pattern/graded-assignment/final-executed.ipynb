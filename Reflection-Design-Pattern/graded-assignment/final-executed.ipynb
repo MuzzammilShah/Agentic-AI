{
 "cells": [
  {
   "cell_type": "markdown",
   "id": "ec95313a",
   "metadata": {},
   "source": [
    "## Graded Lab: Reflection in a Research Agent\n",
    "\n",
    "In this graded lab, you’ll implement a simple **agentic workflow** designed to simulate reflective thinking in a writing task. This is one building block of a more complex research agent that will be constructed throughout the course.\n",
    "\n",
    "### Objective\n",
    "\n",
    "Build a three-step workflow where an LLM writes an essay draft, critiques it, and rewrites it. \n",
    "\n",
    "* **Step 1 – Drafting:** Call the LLM to generate an initial draft of an essay based on a simple prompt.\n",
    "* **Step 2 – Reflection:** Reflect on the draft using a reasoning step. (Optionally, this can be done with a different model.)\n",
    "* **Step 3 – Revision:** Apply the feedback from the reflection to generate a revised version of the essay.\n"
   ]
  },
  {
   "cell_type": "markdown",
   "id": "4a473390",
   "metadata": {},
   "source": [
    "---\n",
    "<a name='submission'></a>\n",
    "\n",
    "<h4 style=\"color:green; font-weight:bold;\">TIPS FOR SUCCESSFUL GRADING OF YOUR ASSIGNMENT:</h4>\n",
    "\n",
    "* All cells are frozen except for the ones where you need to write your solution code or when explicitly mentioned you can interact with it.\n",
    "\n",
    "* In each exercise cell, look for comments `### START CODE HERE ###` and `### END CODE HERE ###`. These show you where to write the solution code. **Do not add or change any code that is outside these comments**.\n",
    "\n",
    "* You can add new cells to experiment but these will be omitted by the grader, so don't rely on newly created cells to host your solution code, use the provided places for this.\n",
    "\n",
    "* Avoid using global variables unless you absolutely have to. The grader tests your code in an isolated environment without running all cells from the top. As a result, global variables may be unavailable when scoring your submission. Global variables that are meant to be used will be defined in UPPERCASE.\n",
    "\n",
    "* To submit your notebook for grading, first save it by clicking the 💾 icon on the top left of the page and then click on the <span style=\"background-color: red; color: white; padding: 3px 5px; font-size: 16px; border-radius: 5px;\">Submit assignment</span> button on the top right of the page.\n",
    "---"
   ]
  },
  {
   "cell_type": "markdown",
   "id": "19131dc4",
   "metadata": {},
   "source": [
    "Before interacting with the language models, we initialize the `aisuite` client. This setup loads environment variables (e.g., API keys) from a `.env` file to securely authenticate with backend services. The `ai.Client()` instance will be used to make all model calls throughout this workflow."
   ]
  },
  {
   "cell_type": "code",
   "execution_count": 1,
   "id": "9ccd6eeb",
   "metadata": {
    "deletable": false,
    "editable": false,
    "height": 149,
    "tags": [
     "graded"
    ]
   },
   "outputs": [],
   "source": [
    "from dotenv import load_dotenv\n",
    "\n",
    "load_dotenv()\n",
    "\n",
    "import aisuite as ai\n",
    "\n",
    "# Define the client. You can use this variable inside your graded functions!\n",
    "CLIENT = ai.Client()"
   ]
  },
  {
   "cell_type": "code",
   "execution_count": 2,
   "id": "88ef4447",
   "metadata": {
    "deletable": false,
    "editable": false,
    "height": 30
   },
   "outputs": [],
   "source": [
    "import unittests"
   ]
  },
  {
   "cell_type": "markdown",
   "id": "cb1d6e33",
   "metadata": {},
   "source": [
    "## Exercise 1: `generate_draft` Function\n",
    "\n",
    "**Objective**:\n",
    "Write a function called `generate_draft` that takes in a string topic and uses a language model to generate a complete draft essay.\n",
    "\n",
    "**Inputs**:\n",
    "\n",
    "* `topic` (str): The essay topic.\n",
    "* `model` (str, optional): The model identifier to use. Defaults to `\"openai:gpt-4o\"`.\n",
    "\n",
    "**Output**:\n",
    "\n",
    "* A string representing the full draft of the essay.\n",
    "\n",
    "The setup for calling the LLM using the aisuite library is already provided. Focus on crafting the prompt content. You can reference this setup in later exercises to understand how to interact with the library effectively.\n"
   ]
  },
  {
   "cell_type": "code",
   "execution_count": 3,
   "id": "dbe325d5",
   "metadata": {
    "deletable": false,
    "height": 421,
    "tags": [
     "graded"
    ]
   },
   "outputs": [],
   "source": [
    "# GRADED FUNCTION: generate_draft\n",
    "\n",
    "def generate_draft(topic: str, model: str = \"openai:gpt-4o\") -> str: \n",
    "    \n",
    "    ### START CODE HERE ###\n",
    "\n",
    "    # Define your prompt here. A multi-line f-string is typically used for this.\n",
    "    prompt = f\"\"\"\n",
    "    Hi, I would like you to please generate a draft essay based on the provided topic from the user.\n",
    "    \n",
    "    topic:\n",
    "    {topic}\n",
    "    \"\"\"\n",
    "\n",
    "    ### END CODE HERE ###\n",
    "    \n",
    "    # Get a response from the LLM by creating a chat with the client.\n",
    "    response = CLIENT.chat.completions.create(\n",
    "        model=model,\n",
    "        messages=[{\"role\": \"user\", \"content\": prompt}],\n",
    "        temperature=1.0,\n",
    "    )\n",
    "\n",
    "    return response.choices[0].message.content"
   ]
  },
  {
   "cell_type": "markdown",
   "id": "2b989100",
   "metadata": {},
   "source": [
    "Run the following cell to check your code is working correctly:"
   ]
  },
  {
   "cell_type": "code",
   "execution_count": 4,
   "id": "85ee72c5",
   "metadata": {
    "deletable": false,
    "editable": false,
    "height": 47
   },
   "outputs": [
    {
     "name": "stdout",
     "output_type": "stream",
     "text": [
      "\u001b[92m All tests passed!\n"
     ]
    }
   ],
   "source": [
    "# Test your code!\n",
    "unittests.test_generate_draft(generate_draft)"
   ]
  },
  {
   "cell_type": "markdown",
   "id": "136a95db",
   "metadata": {},
   "source": [
    "## Exercise 2: `reflect_on_draft` Function\n",
    "\n",
    "**Objective**:\n",
    "Write a function called `reflect_on_draft` that takes a previously generated essay draft and uses a language model to provide constructive feedback.\n",
    "\n",
    "**Inputs**:\n",
    "\n",
    "* `draft` (str): The essay text to reflect on.\n",
    "* `model` (str, optional): The model identifier to use. Defaults to `\"openai:o4-mini\"`.\n",
    "\n",
    "**Output**:\n",
    "\n",
    "* A string with feedback in paragraph form.\n",
    "\n",
    "**Requirements**:\n",
    "\n",
    "* The feedback should be critical but constructive.\n",
    "* It should address issues such as structure, clarity, strength of argument, and writing style.\n",
    "* The function should send the draft to the model and return its response.\n",
    "\n",
    "You do **not** need to rewrite the essay at this step—just analyze and reflect on it.\n"
   ]
  },
  {
   "cell_type": "code",
   "execution_count": 7,
   "id": "4cc1a1cf",
   "metadata": {
    "deletable": false,
    "height": 504,
    "tags": [
     "graded"
    ]
   },
   "outputs": [],
   "source": [
    "# GRADED FUNCTION: reflect_on_draft\n",
    "\n",
    "def reflect_on_draft(draft: str, model: str = \"openai:o4-mini\") -> str:\n",
    "\n",
    "    ### START CODE HERE ###\n",
    "\n",
    "    # Define your prompt here. A multi-line f-string is typically used for this.\n",
    "    prompt = f\"\"\"\n",
    "    Hi, I would like you to please reflect on the provided draft essay and work on improving it based on the following instructions.\n",
    "    Instructions:\n",
    "    1. Make sure it follows the writing style and structure of that of a professional essay.\n",
    "    2. The flow of content should start with an introduction, point of argument and conclusion.\n",
    "    3. Make sure you provide enough points in the argument to provide strength to the essay.\n",
    "    \n",
    "    draft essay:\n",
    "    {draft}\n",
    "    \"\"\" \n",
    "\n",
    "    ### END CODE HERE ###\n",
    "\n",
    "    # Get a response from the LLM by creating a chat with the client.\n",
    "    response = CLIENT.chat.completions.create(\n",
    "        model=model,\n",
    "        messages=[{\"role\": \"user\", \"content\": prompt}],\n",
    "        temperature=1.0,\n",
    "    )\n",
    "\n",
    "    return response.choices[0].message.content"
   ]
  },
  {
   "cell_type": "code",
   "execution_count": 8,
   "id": "001ce37a",
   "metadata": {
    "deletable": false,
    "editable": false,
    "height": 47
   },
   "outputs": [
    {
     "name": "stdout",
     "output_type": "stream",
     "text": [
      "\u001b[92m All tests passed!\n"
     ]
    }
   ],
   "source": [
    "# Test your code!\n",
    "unittests.test_reflect_on_draft(reflect_on_draft)"
   ]
  },
  {
   "cell_type": "markdown",
   "id": "e99bba56",
   "metadata": {},
   "source": [
    "## Exercise 3: `revise_draft` Function\n",
    "\n",
    "**Objective**:\n",
    "Implement a function called `revise_draft` that improves a given essay draft based on feedback from a reflection step.\n",
    "\n",
    "**Inputs**:\n",
    "\n",
    "* `original_draft` (str): The initial version of the essay.\n",
    "* `reflection` (str): Constructive feedback or critique on the draft.\n",
    "* `model` (str, optional): The model identifier to use. Defaults to `\"openai:gpt-4o\"`.\n",
    "\n",
    "**Output**:\n",
    "\n",
    "* A string containing the revised and improved essay.\n",
    "\n",
    "**Requirements**:\n",
    "\n",
    "* The revised draft should address the issues mentioned in the feedback.\n",
    "* It should improve clarity, coherence, argument strength, and overall flow.\n",
    "* The function should use the feedback to guide the revision, and return only the final revised essay.\n",
    "\n",
    "In this final exercise, you'll also need to manage the call to the LLM using the CLIENT, as you've practiced in previous exercises."
   ]
  },
  {
   "cell_type": "code",
   "execution_count": 11,
   "id": "f91595e9",
   "metadata": {
    "deletable": false,
    "height": 489,
    "tags": [
     "graded"
    ]
   },
   "outputs": [],
   "source": [
    "# GRADED FUNCTION: revise_draft\n",
    "\n",
    "def revise_draft(original_draft: str, reflection: str, model: str = \"openai:gpt-4o\") -> str:\n",
    "\n",
    "    ### START CODE HERE ###\n",
    "\n",
    "    # Define your prompt here. A multi-line f-string is typically used for this.\n",
    "    prompt = f\"\"\"\n",
    "    Hi, You are provided with an original draft essay that was generated, along with a reflection that\n",
    "    has been given based on some constructive feedback provided on the original draft. I would like you\n",
    "    to please implement the suggestions in the reflection and implement it on the original draft to\n",
    "    make it better.\n",
    "    \n",
    "    original draft: {original_draft}\n",
    "    \n",
    "    reflection: {reflection}\n",
    "    \"\"\"\n",
    "\n",
    "    # Get a response from the LLM by creating a chat with the client.\n",
    "    response = CLIENT.chat.completions.create(\n",
    "        model=model,\n",
    "        messages=[{\"role\": \"user\", \"content\": prompt}],\n",
    "        temperature=1.0,\n",
    "    )\n",
    "\n",
    "    ### END CODE HERE ###\n",
    "\n",
    "    return response.choices[0].message.content"
   ]
  },
  {
   "cell_type": "code",
   "execution_count": 12,
   "id": "318c3d55",
   "metadata": {
    "deletable": false,
    "editable": false,
    "height": 47
   },
   "outputs": [
    {
     "name": "stdout",
     "output_type": "stream",
     "text": [
      "\u001b[92m All tests passed!\n"
     ]
    }
   ],
   "source": [
    "# Test your code!\n",
    "unittests.test_revise_draft(revise_draft)"
   ]
  },
  {
   "cell_type": "markdown",
   "id": "c8a10d4c",
   "metadata": {},
   "source": [
    "### 🧪 Test the Reflective Writing Workflow\n",
    "\n",
    "Use the functions you implemented to simulate the complete writing workflow:\n",
    "\n",
    "1. **Generate a draft** in response to the essay prompt.\n",
    "2. **Reflect** on the draft to identify improvements.\n",
    "3. **Revise** the draft using the feedback.\n",
    "\n",
    "Observe the outputs of each step. You do **not** need to modify the outputs — just verify that the workflow runs as expected and each component returns a valid string.\n"
   ]
  },
  {
   "cell_type": "code",
   "execution_count": 13,
   "id": "203c734a",
   "metadata": {
    "deletable": false,
    "editable": false,
    "height": 285
   },
   "outputs": [
    {
     "name": "stdout",
     "output_type": "stream",
     "text": [
      "📝 Draft:\n",
      "\n",
      "Title: The Case for Government Regulation of Social Media Platforms\n",
      "\n",
      "Introduction\n",
      "\n",
      "In recent years, social media platforms have become an integral part of our lives, influencing everything from personal relationships to global politics. However, the pervasive influence of these platforms has sparked an ongoing debate about whether they should be regulated by the government. Proponents of regulation argue that it is necessary to protect users from harmful content, safeguard privacy, and ensure fair competition. Opponents, on the other hand, contend that government intervention could stifle innovation and infringe on free speech. This essay explores the arguments on both sides and examines the potential benefits and drawbacks of government regulation of social media platforms.\n",
      "\n",
      "The Need for Regulation\n",
      "\n",
      "One of the primary arguments for the regulation of social media platforms is the protection of users from harmful content. Social media has been a breeding ground for misinformation, hate speech, and cyberbullying. The proliferation of fake news has not only misled the public but also posed significant risks to public health and safety, as seen during the COVID-19 pandemic. Furthermore, platforms are often slow to remove offensive content that can incite violence or propagate discrimination. Government regulation could enforce stricter content moderation standards, requiring platforms to act more swiftly and effectively to protect users.\n",
      "\n",
      "Another compelling reason for regulation is the protection of user privacy. Social media companies collect vast amounts of personal data, which they may misuse or inadequately protect. High-profile data breaches have exposed sensitive information of millions of users, highlighting the need for stricter privacy laws. Government intervention could establish clearer guidelines for data collection, storage, and sharing, thereby safeguarding personal information and holding companies accountable for privacy violations.\n",
      "\n",
      "Ensuring fair competition is another reason to consider regulation. Major social media companies often engage in anti-competitive practices, such as acquiring potential rivals and prioritizing their own services. This stifles innovation and limits consumer choice. Regulatory measures could prevent monopolistic behavior, encouraging a more diverse and competitive market that benefits consumers.\n",
      "\n",
      "Concerns About Regulation\n",
      "\n",
      "Despite the arguments in favor of regulation, there are valid concerns about government intervention in social media. One major apprehension is that regulation could infringe upon free speech. Overzealous regulation might lead to censorship, where legitimate expressions of opinion are suppressed along with harmful content. It is essential to strike a balance between curbing harmful content and preserving freedom of expression.\n",
      "\n",
      "Moreover, government regulation could stifle innovation. Social media platforms thrive in a dynamic environment where rapid innovation is key to success. Excessive regulation could burden companies with compliance requirements, diverting resources away from innovation and slowing growth. Policymakers must ensure that regulation is flexible and adaptable, allowing for technological advancement while maintaining necessary safeguards.\n",
      "\n",
      "Implementing Effective Regulation\n",
      "\n",
      "To mitigate these concerns, it is crucial to design regulation that protects users without overstepping boundaries. Collaboration between governments, tech companies, and civil society is essential to create comprehensive and balanced regulations. Establishing independent oversight bodies can help ensure transparency and accountability, while allowing experts to contribute to regulatory frameworks.\n",
      "\n",
      "Furthermore, a differentiated approach may be needed, recognizing that different platforms have unique challenges and dynamics. Regulation should be tailored to address specific issues faced by each platform, rather than applying a one-size-fits-all policy.\n",
      "\n",
      "Conclusion\n",
      "\n",
      "As social media continues to shape our world, the question of government regulation becomes increasingly pressing. While there are valid concerns about the potential drawbacks of regulation, the need to protect users, ensure privacy, and maintain fair competition cannot be ignored. By implementing thoughtful, balanced regulations that involve multiple stakeholders, governments can create a safer and more equitable social media landscape. The challenge lies in finding the right balance between regulation and freedom, ultimately fostering an internet that serves the public interest while respecting individual rights.\n",
      "\n",
      "🧠 Feedback:\n",
      "\n",
      "Title: The Case for Government Regulation of Social Media Platforms\n",
      "\n",
      "Introduction  \n",
      "Social media platforms have transformed how we communicate, shape opinions, and consume information. From personal interactions to global movements, these digital forums exert a profound influence on society. Yet with unprecedented connectivity come new risks: the spread of misinformation, threats to privacy, and the concentration of market power in a handful of corporations. This essay argues that thoughtful government regulation is necessary to address these challenges, protect public interests, and preserve the openness and innovation that characterize the internet. After outlining the principal concerns driving the need for oversight, it will examine objections to regulation and propose a balanced framework for effective policy.\n",
      "\n",
      "Arguments in Favor of Regulation  \n",
      "\n",
      "1. Protecting Public Health and Safety  \n",
      "   a. Combating Misinformation: During crises such as the COVID-19 pandemic, social media became a vector for false cures and conspiracy theories, undermining public health measures. Regulation could require platforms to flag or remove demonstrably false content and direct users to authoritative sources.  \n",
      "   b. Preventing Radicalization and Violence: Extremist groups exploit algorithmic recommendation systems to recruit and spread propaganda. Mandatory transparency in recommendation algorithms and stricter rules on hate speech can curb the online recruitment of vulnerable individuals.\n",
      "\n",
      "2. Safeguarding Privacy and Data Security  \n",
      "   a. Limiting Data Harvesting: Social media companies routinely collect extensive personal data to fuel targeted advertising. Clear legal limits on data collection, retention, and third-party sharing would protect users from surveillance and identity theft.  \n",
      "   b. Strengthening Breach Notification and Penalties: Uniform requirements for rapid disclosure of data breaches, coupled with significant fines for noncompliance, would incentivize platforms to improve cybersecurity and safeguard user information.\n",
      "\n",
      "3. Ensuring Fair Competition and Innovation  \n",
      "   a. Preventing Monopolistic Practices: Dominant platforms often acquire emerging competitors or replicate popular features, stifling innovation. Antitrust enforcement can block anti-competitive mergers and impose remedies that preserve the market entry of new players.  \n",
      "   b. Promoting Interoperability and Data Portability: Standards that allow users to transfer their social graphs and content between platforms would empower consumers and reduce lock-in effects, spurring competition and encouraging novel services.\n",
      "\n",
      "4. Protecting Vulnerable Populations  \n",
      "   a. Child Safety and Development: Young users are exposed to harmful content, digital addiction, and invasive advertising. Regulations should set age-appropriate design standards, limit targeted ads to minors, and require parental controls.  \n",
      "   b. Mental Health Considerations: Studies link excessive social media use to anxiety, depression, and diminished self-esteem. Requiring platforms to provide tools for screen-time management and to audit the mental health impact of design choices can mitigate these harms.\n",
      "\n",
      "5. Preserving Democratic Processes  \n",
      "   a. Election Integrity: Foreign and domestic actors leverage social media to influence elections through disinformation campaigns. Mandatory disclosures for political advertising, real-time monitoring of coordinated inauthentic behavior, and cooperation with electoral authorities can safeguard democratic institutions.  \n",
      "   b. Algorithmic Transparency: Requiring platforms to publish regular reports on how content is prioritized or suppressed would allow independent researchers to assess bias and systemic risks.\n",
      "\n",
      "Concerns and Counterarguments  \n",
      "\n",
      "1. Free Speech and Censorship  \n",
      "Critics warn that regulation risks government overreach and undue censorship. To address this, laws must establish clear, narrowly defined standards for illicit content—such as incitement to violence or defamation—while protecting legitimate discourse. Independent oversight bodies and due-process mechanisms can ensure content decisions are fair and appealable.\n",
      "\n",
      "2. Innovation and Regulatory Burdens  \n",
      "Opponents argue that compliance costs could slow technological progress. In response, regulations should be outcome-oriented rather than prescriptive, allowing companies flexibility in achieving policy goals. Periodic sunset clauses and stakeholder consultations can help adapt rules to technological advances.\n",
      "\n",
      "A Balanced Regulatory Framework  \n",
      "\n",
      "Effective oversight of social media requires a multi-stakeholder approach:  \n",
      "• Legislative Action: Enact baseline rules for privacy, competition, and content moderation.  \n",
      "• Independent Regulators: Establish or empower data protection and competition authorities to enforce standards, conduct audits, and impose sanctions.  \n",
      "• Platform Accountability: Mandate regular transparency reports on content removal, algorithmic changes, and data practices.  \n",
      "• Civil Society Engagement: Involve researchers, consumer advocates, and user communities in policy design, monitoring, and evaluation.  \n",
      "• International Cooperation: Coordinate with other nations to address cross-border disinformation, data flows, and global platform governance.\n",
      "\n",
      "Conclusion  \n",
      "Social media platforms wield enormous power to inform, persuade, and connect billions of users. Left unchecked, they pose real risks to public health, privacy, competition, and democratic integrity. Yet heavy-handed regulation could also threaten free expression and innovation. The solution lies in a calibrated, transparent, and adaptable regulatory regime that balances public protection with individual rights and market dynamism. By combining legislative clarity, robust enforcement, platform accountability, and civil-society participation, governments can foster a safer, more open, and more competitive social media environment—one that serves both democratic values and the digital economy.\n"
     ]
    },
    {
     "name": "stdout",
     "output_type": "stream",
     "text": [
      "\n",
      "✍️ Revised:\n",
      "\n",
      "**Title: The Case for Government Regulation of Social Media Platforms**\n",
      "\n",
      "**Introduction**\n",
      "\n",
      "Social media platforms have transformed how we communicate, shape opinions, and consume information. From personal interactions to global movements, these digital forums exert a profound influence on society. Yet with unprecedented connectivity come new risks: the spread of misinformation, threats to privacy, and the concentration of market power in a handful of corporations. This essay argues that thoughtful government regulation is necessary to address these challenges, protect public interests, and preserve the openness and innovation that characterize the internet. After outlining the principal concerns driving the need for oversight, it will examine objections to regulation and propose a balanced framework for effective policy.\n",
      "\n",
      "**Arguments in Favor of Regulation**\n",
      "\n",
      "1. **Protecting Public Health and Safety**\n",
      "   - *Combating Misinformation*: Social media became a vector for false cures and conspiracy theories during crises such as the COVID-19 pandemic, undermining public health measures. Regulation could require platforms to flag or remove demonstrably false content and direct users to authoritative sources.\n",
      "   - *Preventing Radicalization and Violence*: Extremist groups exploit algorithmic recommendation systems to recruit and spread propaganda. Mandatory transparency in recommendation algorithms and stricter rules on hate speech can curb the online recruitment of vulnerable individuals.\n",
      "\n",
      "2. **Safeguarding Privacy and Data Security**\n",
      "   - *Limiting Data Harvesting*: Social media companies collect extensive personal data to fuel targeted advertising. Clear legal limits on data collection, retention, and third-party sharing would protect users from surveillance and identity theft.\n",
      "   - *Strengthening Breach Notification and Penalties*: Uniform requirements for rapid disclosure of data breaches, coupled with significant fines for noncompliance, would incentivize platforms to improve cybersecurity and safeguard user information.\n",
      "\n",
      "3. **Ensuring Fair Competition and Innovation**\n",
      "   - *Preventing Monopolistic Practices*: Dominant platforms often acquire emerging competitors or replicate popular features, stifling innovation. Antitrust enforcement can block anti-competitive mergers and impose remedies that preserve the market entry of new players.\n",
      "   - *Promoting Interoperability and Data Portability*: Standards that allow users to transfer their social graphs and content between platforms would empower consumers and reduce lock-in effects, spurring competition and encouraging novel services.\n",
      "\n",
      "4. **Protecting Vulnerable Populations**\n",
      "   - *Child Safety and Development*: Young users are exposed to harmful content, digital addiction, and invasive advertising. Regulations should set age-appropriate design standards, limit targeted ads to minors, and require parental controls.\n",
      "   - *Mental Health Considerations*: Studies link excessive social media use to anxiety, depression, and diminished self-esteem. Requiring platforms to provide tools for screen-time management and to audit the mental health impact of design choices can mitigate these harms.\n",
      "\n",
      "5. **Preserving Democratic Processes**\n",
      "   - *Election Integrity*: Foreign and domestic actors leverage social media to influence elections through disinformation campaigns. Mandatory disclosures for political advertising, real-time monitoring of coordinated inauthentic behavior, and cooperation with electoral authorities can safeguard democratic institutions.\n",
      "   - *Algorithmic Transparency*: Requiring platforms to publish regular reports on how content is prioritized or suppressed would allow independent researchers to assess bias and systemic risks.\n",
      "\n",
      "**Concerns and Counterarguments**\n",
      "\n",
      "1. **Free Speech and Censorship**\n",
      "   Critics warn that regulation risks government overreach and undue censorship. To address this, laws must establish clear, narrowly defined standards for illicit content—such as incitement to violence or defamation—while protecting legitimate discourse. Independent oversight bodies and due-process mechanisms can ensure content decisions are fair and appealable.\n",
      "\n",
      "2. **Innovation and Regulatory Burdens**\n",
      "   Opponents argue that compliance costs could slow technological progress. In response, regulations should be outcome-oriented rather than prescriptive, allowing companies flexibility in achieving policy goals. Periodic sunset clauses and stakeholder consultations can help adapt rules to technological advances.\n",
      "\n",
      "**A Balanced Regulatory Framework**\n",
      "\n",
      "Effective oversight of social media requires a multi-stakeholder approach:\n",
      "- **Legislative Action**: Enact baseline rules for privacy, competition, and content moderation.\n",
      "- **Independent Regulators**: Establish or empower data protection and competition authorities to enforce standards, conduct audits, and impose sanctions.\n",
      "- **Platform Accountability**: Mandate regular transparency reports on content removal, algorithmic changes, and data practices.\n",
      "- **Civil Society Engagement**: Involve researchers, consumer advocates, and user communities in policy design, monitoring, and evaluation.\n",
      "- **International Cooperation**: Coordinate with other nations to address cross-border disinformation, data flows, and global platform governance.\n",
      "\n",
      "**Conclusion**\n",
      "\n",
      "Social media platforms wield enormous power to inform, persuade, and connect billions of users. Left unchecked, they pose real risks to public health, privacy, competition, and democratic integrity. Yet heavy-handed regulation could also threaten free expression and innovation. The solution lies in a calibrated, transparent, and adaptable regulatory regime that balances public protection with individual rights and market dynamism. By combining legislative clarity, robust enforcement, platform accountability, and civil-society participation, governments can foster a safer, more open, and more competitive social media environment—one that serves both democratic values and the digital economy.\n"
     ]
    }
   ],
   "source": [
    "essay_prompt = \"Should social media platforms be regulated by the government?\"\n",
    "\n",
    "# Agent 1 – Draft\n",
    "draft = generate_draft(essay_prompt)\n",
    "print(\"📝 Draft:\\n\")\n",
    "print(draft)\n",
    "\n",
    "# Agent 2 – Reflection\n",
    "feedback = reflect_on_draft(draft)\n",
    "print(\"\\n🧠 Feedback:\\n\")\n",
    "print(feedback)\n",
    "\n",
    "# Agent 3 – Revision\n",
    "revised = revise_draft(draft, feedback)\n",
    "print(\"\\n✍️ Revised:\\n\")\n",
    "print(revised)"
   ]
  },
  {
   "cell_type": "markdown",
   "id": "7e3eb897",
   "metadata": {},
   "source": [
    "To better visualize the output of each step in the reflective writing workflow, we use a utility function called `show_output`. This function displays the results of each stage (drafting, reflection, and revision) in styled boxes with custom background and text colors, making it easier to compare and understand the progression of the essay.\n"
   ]
  },
  {
   "cell_type": "code",
   "execution_count": 14,
   "id": "50667ba3",
   "metadata": {
    "deletable": false,
    "editable": false,
    "height": 132
   },
   "outputs": [
    {
     "data": {
      "text/html": [
       "\n",
       "    <div style=\"\n",
       "        border: 1px solid #ccc;\n",
       "        border-radius: 10px;\n",
       "        padding: 15px;\n",
       "        margin-bottom: 15px;\n",
       "        background-color: #fff8dc;\n",
       "        color: #333333;\n",
       "    \">\n",
       "        <h3 style=\"margin-top: 0;\">Step 1 – Draft</h3>\n",
       "        <pre style=\"\n",
       "            white-space: pre-wrap;\n",
       "            font-family: monospace;\n",
       "            font-size: 14px;\n",
       "        \">Title: The Case for Government Regulation of Social Media Platforms\n",
       "\n",
       "Introduction\n",
       "\n",
       "In recent years, social media platforms have become an integral part of our lives, influencing everything from personal relationships to global politics. However, the pervasive influence of these platforms has sparked an ongoing debate about whether they should be regulated by the government. Proponents of regulation argue that it is necessary to protect users from harmful content, safeguard privacy, and ensure fair competition. Opponents, on the other hand, contend that government intervention could stifle innovation and infringe on free speech. This essay explores the arguments on both sides and examines the potential benefits and drawbacks of government regulation of social media platforms.\n",
       "\n",
       "The Need for Regulation\n",
       "\n",
       "One of the primary arguments for the regulation of social media platforms is the protection of users from harmful content. Social media has been a breeding ground for misinformation, hate speech, and cyberbullying. The proliferation of fake news has not only misled the public but also posed significant risks to public health and safety, as seen during the COVID-19 pandemic. Furthermore, platforms are often slow to remove offensive content that can incite violence or propagate discrimination. Government regulation could enforce stricter content moderation standards, requiring platforms to act more swiftly and effectively to protect users.\n",
       "\n",
       "Another compelling reason for regulation is the protection of user privacy. Social media companies collect vast amounts of personal data, which they may misuse or inadequately protect. High-profile data breaches have exposed sensitive information of millions of users, highlighting the need for stricter privacy laws. Government intervention could establish clearer guidelines for data collection, storage, and sharing, thereby safeguarding personal information and holding companies accountable for privacy violations.\n",
       "\n",
       "Ensuring fair competition is another reason to consider regulation. Major social media companies often engage in anti-competitive practices, such as acquiring potential rivals and prioritizing their own services. This stifles innovation and limits consumer choice. Regulatory measures could prevent monopolistic behavior, encouraging a more diverse and competitive market that benefits consumers.\n",
       "\n",
       "Concerns About Regulation\n",
       "\n",
       "Despite the arguments in favor of regulation, there are valid concerns about government intervention in social media. One major apprehension is that regulation could infringe upon free speech. Overzealous regulation might lead to censorship, where legitimate expressions of opinion are suppressed along with harmful content. It is essential to strike a balance between curbing harmful content and preserving freedom of expression.\n",
       "\n",
       "Moreover, government regulation could stifle innovation. Social media platforms thrive in a dynamic environment where rapid innovation is key to success. Excessive regulation could burden companies with compliance requirements, diverting resources away from innovation and slowing growth. Policymakers must ensure that regulation is flexible and adaptable, allowing for technological advancement while maintaining necessary safeguards.\n",
       "\n",
       "Implementing Effective Regulation\n",
       "\n",
       "To mitigate these concerns, it is crucial to design regulation that protects users without overstepping boundaries. Collaboration between governments, tech companies, and civil society is essential to create comprehensive and balanced regulations. Establishing independent oversight bodies can help ensure transparency and accountability, while allowing experts to contribute to regulatory frameworks.\n",
       "\n",
       "Furthermore, a differentiated approach may be needed, recognizing that different platforms have unique challenges and dynamics. Regulation should be tailored to address specific issues faced by each platform, rather than applying a one-size-fits-all policy.\n",
       "\n",
       "Conclusion\n",
       "\n",
       "As social media continues to shape our world, the question of government regulation becomes increasingly pressing. While there are valid concerns about the potential drawbacks of regulation, the need to protect users, ensure privacy, and maintain fair competition cannot be ignored. By implementing thoughtful, balanced regulations that involve multiple stakeholders, governments can create a safer and more equitable social media landscape. The challenge lies in finding the right balance between regulation and freedom, ultimately fostering an internet that serves the public interest while respecting individual rights.</pre>\n",
       "    </div>\n",
       "    "
      ],
      "text/plain": [
       "<IPython.core.display.HTML object>"
      ]
     },
     "metadata": {},
     "output_type": "display_data"
    },
    {
     "data": {
      "text/html": [
       "\n",
       "    <div style=\"\n",
       "        border: 1px solid #ccc;\n",
       "        border-radius: 10px;\n",
       "        padding: 15px;\n",
       "        margin-bottom: 15px;\n",
       "        background-color: #e0f7fa;\n",
       "        color: #222222;\n",
       "    \">\n",
       "        <h3 style=\"margin-top: 0;\">Step 2 – Reflection</h3>\n",
       "        <pre style=\"\n",
       "            white-space: pre-wrap;\n",
       "            font-family: monospace;\n",
       "            font-size: 14px;\n",
       "        \">Title: The Case for Government Regulation of Social Media Platforms\n",
       "\n",
       "Introduction  \n",
       "Social media platforms have transformed how we communicate, shape opinions, and consume information. From personal interactions to global movements, these digital forums exert a profound influence on society. Yet with unprecedented connectivity come new risks: the spread of misinformation, threats to privacy, and the concentration of market power in a handful of corporations. This essay argues that thoughtful government regulation is necessary to address these challenges, protect public interests, and preserve the openness and innovation that characterize the internet. After outlining the principal concerns driving the need for oversight, it will examine objections to regulation and propose a balanced framework for effective policy.\n",
       "\n",
       "Arguments in Favor of Regulation  \n",
       "\n",
       "1. Protecting Public Health and Safety  \n",
       "   a. Combating Misinformation: During crises such as the COVID-19 pandemic, social media became a vector for false cures and conspiracy theories, undermining public health measures. Regulation could require platforms to flag or remove demonstrably false content and direct users to authoritative sources.  \n",
       "   b. Preventing Radicalization and Violence: Extremist groups exploit algorithmic recommendation systems to recruit and spread propaganda. Mandatory transparency in recommendation algorithms and stricter rules on hate speech can curb the online recruitment of vulnerable individuals.\n",
       "\n",
       "2. Safeguarding Privacy and Data Security  \n",
       "   a. Limiting Data Harvesting: Social media companies routinely collect extensive personal data to fuel targeted advertising. Clear legal limits on data collection, retention, and third-party sharing would protect users from surveillance and identity theft.  \n",
       "   b. Strengthening Breach Notification and Penalties: Uniform requirements for rapid disclosure of data breaches, coupled with significant fines for noncompliance, would incentivize platforms to improve cybersecurity and safeguard user information.\n",
       "\n",
       "3. Ensuring Fair Competition and Innovation  \n",
       "   a. Preventing Monopolistic Practices: Dominant platforms often acquire emerging competitors or replicate popular features, stifling innovation. Antitrust enforcement can block anti-competitive mergers and impose remedies that preserve the market entry of new players.  \n",
       "   b. Promoting Interoperability and Data Portability: Standards that allow users to transfer their social graphs and content between platforms would empower consumers and reduce lock-in effects, spurring competition and encouraging novel services.\n",
       "\n",
       "4. Protecting Vulnerable Populations  \n",
       "   a. Child Safety and Development: Young users are exposed to harmful content, digital addiction, and invasive advertising. Regulations should set age-appropriate design standards, limit targeted ads to minors, and require parental controls.  \n",
       "   b. Mental Health Considerations: Studies link excessive social media use to anxiety, depression, and diminished self-esteem. Requiring platforms to provide tools for screen-time management and to audit the mental health impact of design choices can mitigate these harms.\n",
       "\n",
       "5. Preserving Democratic Processes  \n",
       "   a. Election Integrity: Foreign and domestic actors leverage social media to influence elections through disinformation campaigns. Mandatory disclosures for political advertising, real-time monitoring of coordinated inauthentic behavior, and cooperation with electoral authorities can safeguard democratic institutions.  \n",
       "   b. Algorithmic Transparency: Requiring platforms to publish regular reports on how content is prioritized or suppressed would allow independent researchers to assess bias and systemic risks.\n",
       "\n",
       "Concerns and Counterarguments  \n",
       "\n",
       "1. Free Speech and Censorship  \n",
       "Critics warn that regulation risks government overreach and undue censorship. To address this, laws must establish clear, narrowly defined standards for illicit content—such as incitement to violence or defamation—while protecting legitimate discourse. Independent oversight bodies and due-process mechanisms can ensure content decisions are fair and appealable.\n",
       "\n",
       "2. Innovation and Regulatory Burdens  \n",
       "Opponents argue that compliance costs could slow technological progress. In response, regulations should be outcome-oriented rather than prescriptive, allowing companies flexibility in achieving policy goals. Periodic sunset clauses and stakeholder consultations can help adapt rules to technological advances.\n",
       "\n",
       "A Balanced Regulatory Framework  \n",
       "\n",
       "Effective oversight of social media requires a multi-stakeholder approach:  \n",
       "• Legislative Action: Enact baseline rules for privacy, competition, and content moderation.  \n",
       "• Independent Regulators: Establish or empower data protection and competition authorities to enforce standards, conduct audits, and impose sanctions.  \n",
       "• Platform Accountability: Mandate regular transparency reports on content removal, algorithmic changes, and data practices.  \n",
       "• Civil Society Engagement: Involve researchers, consumer advocates, and user communities in policy design, monitoring, and evaluation.  \n",
       "• International Cooperation: Coordinate with other nations to address cross-border disinformation, data flows, and global platform governance.\n",
       "\n",
       "Conclusion  \n",
       "Social media platforms wield enormous power to inform, persuade, and connect billions of users. Left unchecked, they pose real risks to public health, privacy, competition, and democratic integrity. Yet heavy-handed regulation could also threaten free expression and innovation. The solution lies in a calibrated, transparent, and adaptable regulatory regime that balances public protection with individual rights and market dynamism. By combining legislative clarity, robust enforcement, platform accountability, and civil-society participation, governments can foster a safer, more open, and more competitive social media environment—one that serves both democratic values and the digital economy.</pre>\n",
       "    </div>\n",
       "    "
      ],
      "text/plain": [
       "<IPython.core.display.HTML object>"
      ]
     },
     "metadata": {},
     "output_type": "display_data"
    },
    {
     "data": {
      "text/html": [
       "\n",
       "    <div style=\"\n",
       "        border: 1px solid #ccc;\n",
       "        border-radius: 10px;\n",
       "        padding: 15px;\n",
       "        margin-bottom: 15px;\n",
       "        background-color: #f3e5f5;\n",
       "        color: #222222;\n",
       "    \">\n",
       "        <h3 style=\"margin-top: 0;\">Step 3 – Revision</h3>\n",
       "        <pre style=\"\n",
       "            white-space: pre-wrap;\n",
       "            font-family: monospace;\n",
       "            font-size: 14px;\n",
       "        \">**Title: The Case for Government Regulation of Social Media Platforms**\n",
       "\n",
       "**Introduction**\n",
       "\n",
       "Social media platforms have transformed how we communicate, shape opinions, and consume information. From personal interactions to global movements, these digital forums exert a profound influence on society. Yet with unprecedented connectivity come new risks: the spread of misinformation, threats to privacy, and the concentration of market power in a handful of corporations. This essay argues that thoughtful government regulation is necessary to address these challenges, protect public interests, and preserve the openness and innovation that characterize the internet. After outlining the principal concerns driving the need for oversight, it will examine objections to regulation and propose a balanced framework for effective policy.\n",
       "\n",
       "**Arguments in Favor of Regulation**\n",
       "\n",
       "1. **Protecting Public Health and Safety**\n",
       "   - *Combating Misinformation*: Social media became a vector for false cures and conspiracy theories during crises such as the COVID-19 pandemic, undermining public health measures. Regulation could require platforms to flag or remove demonstrably false content and direct users to authoritative sources.\n",
       "   - *Preventing Radicalization and Violence*: Extremist groups exploit algorithmic recommendation systems to recruit and spread propaganda. Mandatory transparency in recommendation algorithms and stricter rules on hate speech can curb the online recruitment of vulnerable individuals.\n",
       "\n",
       "2. **Safeguarding Privacy and Data Security**\n",
       "   - *Limiting Data Harvesting*: Social media companies collect extensive personal data to fuel targeted advertising. Clear legal limits on data collection, retention, and third-party sharing would protect users from surveillance and identity theft.\n",
       "   - *Strengthening Breach Notification and Penalties*: Uniform requirements for rapid disclosure of data breaches, coupled with significant fines for noncompliance, would incentivize platforms to improve cybersecurity and safeguard user information.\n",
       "\n",
       "3. **Ensuring Fair Competition and Innovation**\n",
       "   - *Preventing Monopolistic Practices*: Dominant platforms often acquire emerging competitors or replicate popular features, stifling innovation. Antitrust enforcement can block anti-competitive mergers and impose remedies that preserve the market entry of new players.\n",
       "   - *Promoting Interoperability and Data Portability*: Standards that allow users to transfer their social graphs and content between platforms would empower consumers and reduce lock-in effects, spurring competition and encouraging novel services.\n",
       "\n",
       "4. **Protecting Vulnerable Populations**\n",
       "   - *Child Safety and Development*: Young users are exposed to harmful content, digital addiction, and invasive advertising. Regulations should set age-appropriate design standards, limit targeted ads to minors, and require parental controls.\n",
       "   - *Mental Health Considerations*: Studies link excessive social media use to anxiety, depression, and diminished self-esteem. Requiring platforms to provide tools for screen-time management and to audit the mental health impact of design choices can mitigate these harms.\n",
       "\n",
       "5. **Preserving Democratic Processes**\n",
       "   - *Election Integrity*: Foreign and domestic actors leverage social media to influence elections through disinformation campaigns. Mandatory disclosures for political advertising, real-time monitoring of coordinated inauthentic behavior, and cooperation with electoral authorities can safeguard democratic institutions.\n",
       "   - *Algorithmic Transparency*: Requiring platforms to publish regular reports on how content is prioritized or suppressed would allow independent researchers to assess bias and systemic risks.\n",
       "\n",
       "**Concerns and Counterarguments**\n",
       "\n",
       "1. **Free Speech and Censorship**\n",
       "   Critics warn that regulation risks government overreach and undue censorship. To address this, laws must establish clear, narrowly defined standards for illicit content—such as incitement to violence or defamation—while protecting legitimate discourse. Independent oversight bodies and due-process mechanisms can ensure content decisions are fair and appealable.\n",
       "\n",
       "2. **Innovation and Regulatory Burdens**\n",
       "   Opponents argue that compliance costs could slow technological progress. In response, regulations should be outcome-oriented rather than prescriptive, allowing companies flexibility in achieving policy goals. Periodic sunset clauses and stakeholder consultations can help adapt rules to technological advances.\n",
       "\n",
       "**A Balanced Regulatory Framework**\n",
       "\n",
       "Effective oversight of social media requires a multi-stakeholder approach:\n",
       "- **Legislative Action**: Enact baseline rules for privacy, competition, and content moderation.\n",
       "- **Independent Regulators**: Establish or empower data protection and competition authorities to enforce standards, conduct audits, and impose sanctions.\n",
       "- **Platform Accountability**: Mandate regular transparency reports on content removal, algorithmic changes, and data practices.\n",
       "- **Civil Society Engagement**: Involve researchers, consumer advocates, and user communities in policy design, monitoring, and evaluation.\n",
       "- **International Cooperation**: Coordinate with other nations to address cross-border disinformation, data flows, and global platform governance.\n",
       "\n",
       "**Conclusion**\n",
       "\n",
       "Social media platforms wield enormous power to inform, persuade, and connect billions of users. Left unchecked, they pose real risks to public health, privacy, competition, and democratic integrity. Yet heavy-handed regulation could also threaten free expression and innovation. The solution lies in a calibrated, transparent, and adaptable regulatory regime that balances public protection with individual rights and market dynamism. By combining legislative clarity, robust enforcement, platform accountability, and civil-society participation, governments can foster a safer, more open, and more competitive social media environment—one that serves both democratic values and the digital economy.</pre>\n",
       "    </div>\n",
       "    "
      ],
      "text/plain": [
       "<IPython.core.display.HTML object>"
      ]
     },
     "metadata": {},
     "output_type": "display_data"
    }
   ],
   "source": [
    "from utils import show_output\n",
    "\n",
    "essay_prompt = \"Should social media platforms be regulated by the government?\"\n",
    "\n",
    "show_output(\"Step 1 – Draft\", draft, background=\"#fff8dc\", text_color=\"#333333\")\n",
    "show_output(\"Step 2 – Reflection\", feedback, background=\"#e0f7fa\", text_color=\"#222222\")\n",
    "show_output(\"Step 3 – Revision\", revised, background=\"#f3e5f5\", text_color=\"#222222\")"
   ]
  },
  {
   "cell_type": "markdown",
   "id": "367973f7",
   "metadata": {},
   "source": [
    "## Check grading feedback\n",
    "\n",
    "If you have collapsed the right panel to have more screen space for your code, as shown below:\n",
    "\n",
    "<img src=\"./images/collapsed.png\" alt=\"Collapsed Image\" width=\"800\" height=\"400\"/>\n",
    "\n",
    "You can click on the left-facing arrow button (highlighted in red) to view feedback for your submission after submitting it for grading. Once expanded, it should display like this:\n",
    "\n",
    "<img src=\"./images/expanded.png\" alt=\"Expanded Image\" width=\"800\" height=\"400\"/>"
   ]
  }
 ],
 "metadata": {
  "grader_version": "1",
  "kernelspec": {
   "display_name": "Python 3 (ipykernel)",
   "language": "python",
   "name": "python3"
  },
  "language_info": {
   "codemirror_mode": {
    "name": "ipython",
    "version": 3
   },
   "file_extension": ".py",
   "mimetype": "text/x-python",
   "name": "python",
   "nbconvert_exporter": "python",
   "pygments_lexer": "ipython3",
   "version": "3.11.9"
  }
 },
 "nbformat": 4,
 "nbformat_minor": 5
}
